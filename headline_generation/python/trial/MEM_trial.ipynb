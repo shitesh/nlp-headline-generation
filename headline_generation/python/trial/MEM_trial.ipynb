{
 "cells": [
  {
   "cell_type": "code",
   "execution_count": 2,
   "metadata": {
    "collapsed": false
   },
   "outputs": [
    {
     "name": "stdout",
     "output_type": "stream",
     "text": [
      "  ==> Training (100 iterations)\n",
      "\n",
      "      Iteration    Log Likelihood    Accuracy\n",
      "      ---------------------------------------\n",
      "             1          -0.69315        0.370\n",
      "             2          -0.40459        0.802\n",
      "             3          -0.34820        0.819\n",
      "             4          -0.32300        0.824\n",
      "             5          -0.30888        0.828\n",
      "             6          -0.29985        0.830\n",
      "             7          -0.29358        0.831\n",
      "             8          -0.28893        0.833\n",
      "             9          -0.28535        0.833\n",
      "            10          -0.28248        0.834\n",
      "            11          -0.28013        0.835\n",
      "            12          -0.27817        0.835\n",
      "            13          -0.27650        0.835\n",
      "            14          -0.27507        0.836\n",
      "            15          -0.27382        0.836\n",
      "            16          -0.27272        0.837\n",
      "            17          -0.27175        0.837\n",
      "            18          -0.27089        0.837\n",
      "            19          -0.27011        0.837\n",
      "            20          -0.26941        0.838\n",
      "            21          -0.26878        0.838\n",
      "            22          -0.26820        0.838\n",
      "            23          -0.26767        0.838\n",
      "            24          -0.26719        0.838\n",
      "            25          -0.26674        0.838\n",
      "            26          -0.26632        0.838\n",
      "            27          -0.26594        0.838\n",
      "            28          -0.26558        0.838\n",
      "            29          -0.26525        0.838\n",
      "            30          -0.26494        0.838\n",
      "            31          -0.26464        0.838\n",
      "            32          -0.26437        0.838\n",
      "            33          -0.26411        0.838\n",
      "            34          -0.26387        0.837\n",
      "            35          -0.26364        0.837\n",
      "            36          -0.26342        0.837\n",
      "            37          -0.26321        0.837\n",
      "            38          -0.26301        0.837\n",
      "            39          -0.26283        0.837\n",
      "            40          -0.26265        0.837\n",
      "            41          -0.26248        0.837\n",
      "            42          -0.26232        0.837\n",
      "            43          -0.26216        0.837\n",
      "            44          -0.26201        0.837\n",
      "            45          -0.26187        0.837\n",
      "            46          -0.26173        0.837\n",
      "            47          -0.26160        0.837\n",
      "            48          -0.26147        0.837\n",
      "            49          -0.26135        0.837\n",
      "            50          -0.26124        0.837\n",
      "            51          -0.26112        0.837\n",
      "            52          -0.26101        0.837\n",
      "            53          -0.26091        0.837\n",
      "            54          -0.26081        0.837\n",
      "            55          -0.26071        0.837\n",
      "            56          -0.26061        0.837\n",
      "            57          -0.26052        0.837\n",
      "            58          -0.26043        0.837\n",
      "            59          -0.26035        0.837\n",
      "            60          -0.26026        0.837\n",
      "            61          -0.26018        0.837\n",
      "            62          -0.26010        0.837\n",
      "            63          -0.26003        0.837\n",
      "            64          -0.25995        0.837\n",
      "            65          -0.25988        0.837\n",
      "            66          -0.25981        0.837\n",
      "            67          -0.25974        0.837\n",
      "            68          -0.25967        0.837\n",
      "            69          -0.25961        0.837\n",
      "            70          -0.25955        0.837\n",
      "            71          -0.25949        0.837\n",
      "            72          -0.25943        0.837\n",
      "            73          -0.25937        0.837\n",
      "            74          -0.25931        0.837\n",
      "            75          -0.25925        0.837\n",
      "            76          -0.25920        0.837\n",
      "            77          -0.25915        0.837\n",
      "            78          -0.25910        0.837\n",
      "            79          -0.25904        0.837\n",
      "            80          -0.25900        0.837\n",
      "            81          -0.25895        0.837\n",
      "            82          -0.25890        0.837\n",
      "            83          -0.25885        0.837\n",
      "            84          -0.25881        0.837\n",
      "            85          -0.25876        0.837\n",
      "            86          -0.25872        0.837\n",
      "            87          -0.25868        0.837\n",
      "            88          -0.25864        0.837\n",
      "            89          -0.25860        0.837\n",
      "            90          -0.25856        0.837\n",
      "            91          -0.25852        0.837\n",
      "            92          -0.25848        0.837\n",
      "            93          -0.25844        0.837\n",
      "            94          -0.25841        0.837\n",
      "            95          -0.25837        0.837\n",
      "            96          -0.25834        0.837\n",
      "            97          -0.25830        0.837\n",
      "            98          -0.25827        0.837\n",
      "            99          -0.25823        0.837\n",
      "         Final          -0.25820        0.837\n"
     ]
    }
   ],
   "source": [
    "# attempt at using nltk MEM \n",
    "# based on http://textminingonline.com/tag/maxent-classifier\n",
    "import random\n",
    "from nltk.corpus import names\n",
    "from nltk import MaxentClassifier\n",
    "\n",
    "all_names = [(name, 'male') for name in names.words('male.txt')]\n",
    "female_names = [(name, 'female') for name in names.words('female.txt')]\n",
    "\n",
    "all_names.extend(female_names)\n",
    "random.shuffle(all_names) # shuffle names\n",
    "\n",
    "def gender_features(word):\n",
    "    # returns a dictionary of feature sets\n",
    "    word = word.lower()\n",
    "    feature_dict = {'last_letter': word[-1]}\n",
    "    feature_dict['first_letter'] = word[0]\n",
    "    feature_dict['fw'] = word[:2]\n",
    "    feature_dict['lw'] = word[-2:]\n",
    "    \n",
    "    return feature_dict\n",
    "\n",
    "\n",
    "feature_sets = [(gender_features(name), gender) for (name, gender) in all_names]\n",
    "\n",
    "train_set, test_set = feature_sets[100:], feature_sets[:100]\n",
    "\n",
    "classifier = MaxentClassifier.train(train_set)\n",
    "\n"
   ]
  },
  {
   "cell_type": "code",
   "execution_count": 9,
   "metadata": {
    "collapsed": false
   },
   "outputs": [
    {
     "data": {
      "text/plain": [
       "'female'"
      ]
     },
     "execution_count": 9,
     "metadata": {},
     "output_type": "execute_result"
    }
   ],
   "source": [
    "classifier.classify(gender_features(''))"
   ]
  }
 ],
 "metadata": {
  "kernelspec": {
   "display_name": "Python 2",
   "language": "python",
   "name": "python2"
  },
  "language_info": {
   "codemirror_mode": {
    "name": "ipython",
    "version": 2
   },
   "file_extension": ".py",
   "mimetype": "text/x-python",
   "name": "python",
   "nbconvert_exporter": "python",
   "pygments_lexer": "ipython2",
   "version": "2.7.6"
  }
 },
 "nbformat": 4,
 "nbformat_minor": 0
}
